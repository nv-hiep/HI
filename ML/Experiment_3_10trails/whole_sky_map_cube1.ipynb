{
 "cells": [
  {
   "cell_type": "markdown",
   "id": "a89bfb11-4644-4529-ab7d-2057f453f0ed",
   "metadata": {},
   "source": [
    "# Whole sky map"
   ]
  },
  {
   "cell_type": "markdown",
   "id": "1a4b1fbe-d12b-4d88-a1c1-36cfb4a41e72",
   "metadata": {},
   "source": [
    "## packages "
   ]
  },
  {
   "cell_type": "code",
   "execution_count": 3,
   "id": "8a7281c7-c14e-4eab-9496-fe41daf9e2f5",
   "metadata": {},
   "outputs": [],
   "source": [
    "from __future__ import print_function, division\n",
    "from astropy.io          import fits\n",
    "from astropy             import units as u\n",
    "from astropy.coordinates import SkyCoord\n",
    "\n",
    "import numpy as np\n",
    "import matplotlib.pyplot as plt\n",
    "import pandas as pd\n",
    "from collections import OrderedDict\n",
    "import math\n",
    "\n",
    "import torch\n",
    "import torch.nn as nn\n",
    "import torch.optim as optim\n",
    "import torchvision.transforms as transforms\n",
    "from sklearn.model_selection import train_test_split\n",
    "from torchsummary import summary\n",
    "from torch.optim.lr_scheduler import LambdaLR, StepLR, MultiStepLR, ExponentialLR\n",
    "import os\n",
    "import argparse\n",
    "from astropy.io import fits\n",
    "\n",
    "import glob\n",
    "import pickle\n",
    "import CNN\n",
    "import os\n",
    "import sys\n",
    "import PIL\n",
    "import data_loader\n",
    "import sys, os"
   ]
  },
  {
   "cell_type": "code",
   "execution_count": 4,
   "id": "90972e3a-8604-4bd0-881f-b0e43a4e7385",
   "metadata": {},
   "outputs": [
    {
     "name": "stdout",
     "output_type": "stream",
     "text": [
      "C:\\Users\\Administrator-1\\Desktop\\New folder (6)\\HI\\ML\\Experiment_3_10trails\n"
     ]
    }
   ],
   "source": [
    "print(os.getcwd())"
   ]
  },
  {
   "cell_type": "markdown",
   "id": "44387a42-779b-45a0-90da-667e6d28b996",
   "metadata": {},
   "source": [
    "## path"
   ]
  },
  {
   "cell_type": "code",
   "execution_count": 5,
   "id": "0a8e40af-9fbb-4b4a-bb75-511f24be8a1d",
   "metadata": {},
   "outputs": [
    {
     "name": "stdout",
     "output_type": "stream",
     "text": [
      "C:\\Users\\Administrator-1\\Desktop\\New folder (6)\\HI\\ML\\Experiment_3_10trails\\data\\saury2014\\cubes\n",
      "C:\\Users\\Administrator-1\\Desktop\\New folder (6)\\HI\\ML\\Experiment_3_10trails\\data\\saury2014\\fcnm\n",
      "C:\\Users\\Administrator-1\\Desktop\\New folder (6)\\HI\\ML\\Experiment_3_10trails\\data\\saury2014\\RHI\n"
     ]
    }
   ],
   "source": [
    "\n",
    "base_path = os.getcwd()\n",
    "data_path  = os.path.join(base_path, 'data')\n",
    "data_cube_path = os.path.join(data_path, 'saury2014','cubes')\n",
    "fcnm_path = os.path.join(data_path, 'saury2014','fcnm')\n",
    "rhi_path = os.path.join(data_path, 'saury2014','RHI')\n",
    "print(data_cube_path)\n",
    "print(fcnm_path)\n",
    "print(rhi_path)"
   ]
  },
  {
   "cell_type": "code",
   "execution_count": 6,
   "id": "d6435a9a-81e9-4c67-9acd-364a2d4cd7a7",
   "metadata": {},
   "outputs": [
    {
     "name": "stdout",
     "output_type": "stream",
     "text": [
      "C:\\Users\\Administrator-1\\Desktop\\New folder (6)\\HI\\ML\\Experiment_3_10trails\\data\\saury2014\\cubes\\Tb_n01_pw02_vs12_512_thick_quarter_0_noise_1.0_K_beam_1.45_pix_.fits\n",
      "C:\\Users\\Administrator-1\\Desktop\\New folder (6)\\HI\\ML\\Experiment_3_10trails\\data\\saury2014\\fcnm\\fcnm_map_n01_pw02_vs12_Tcut_500K_512px_quarter_0_noise.fits\n",
      "C:\\Users\\Administrator-1\\Desktop\\New folder (6)\\HI\\ML\\Experiment_3_10trails\\data\\saury2014\\RHI\\R_map_n01_pw02_vs12_512px_quarter_0_noise.fits\n"
     ]
    }
   ],
   "source": [
    "# Training and test datasets\n",
    "# 1. Datacubes: 04 datacubes with size of (512 x 512 x 101)\n",
    "training_data_file_q0 = 'Tb_n01_pw02_vs12_512_thick_quarter_0_noise_1.0_K_beam_1.45_pix_.fits'\n",
    "training_data_file_q1 = 'Tb_n01_pw02_vs12_512_thick_quarter_1_noise_1.0_K_beam_1.45_pix_.fits'\n",
    "training_data_file_q2 = 'Tb_n01_pw02_vs12_512_thick_quarter_2_noise_1.0_K_beam_1.45_pix_.fits'\n",
    "training_data_file_q3 = 'Tb_n01_pw02_vs12_512_thick_quarter_3_noise_1.0_K_beam_1.45_pix_.fits'\n",
    "\n",
    "training_data_file_q0 = os.path.join(data_cube_path, training_data_file_q0)\n",
    "training_data_file_q1 = os.path.join(data_cube_path, training_data_file_q1)\n",
    "training_data_file_q2 = os.path.join(data_cube_path, training_data_file_q2)\n",
    "training_data_file_q3 = os.path.join(data_cube_path, training_data_file_q3)\n",
    "\n",
    "# 2a. R_HI maps\n",
    "rhi_file_q0 = 'R_map_n01_pw02_vs12_512px_quarter_0_noise.fits'\n",
    "rhi_file_q1 = 'R_map_n01_pw02_vs12_512px_quarter_1_noise.fits'\n",
    "rhi_file_q2 = 'R_map_n01_pw02_vs12_512px_quarter_2_noise.fits'\n",
    "rhi_file_q3 = 'R_map_n01_pw02_vs12_512px_quarter_3_noise.fits'\n",
    "\n",
    "rhi_file_q0 = os.path.join(rhi_path, rhi_file_q0)\n",
    "rhi_file_q1 = os.path.join(rhi_path, rhi_file_q1)\n",
    "rhi_file_q2 = os.path.join(rhi_path, rhi_file_q2)\n",
    "rhi_file_q3 = os.path.join(rhi_path, rhi_file_q3)\n",
    "\n",
    "# 3a. FCNM maps with noise\n",
    "fcnm_file_q0 = 'fcnm_map_n01_pw02_vs12_Tcut_500K_512px_quarter_0_noise.fits'\n",
    "fcnm_file_q1 = 'fcnm_map_n01_pw02_vs12_Tcut_500K_512px_quarter_1_noise.fits'\n",
    "fcnm_file_q2 = 'fcnm_map_n01_pw02_vs12_Tcut_500K_512px_quarter_2_noise.fits'\n",
    "fcnm_file_q3 = 'fcnm_map_n01_pw02_vs12_Tcut_500K_512px_quarter_3_noise.fits'\n",
    "\n",
    "fcnm_file_q0 = os.path.join(fcnm_path, fcnm_file_q0)\n",
    "fcnm_file_q1 = os.path.join(fcnm_path, fcnm_file_q1)\n",
    "fcnm_file_q2 = os.path.join(fcnm_path, fcnm_file_q2)\n",
    "fcnm_file_q3 = os.path.join(fcnm_path, fcnm_file_q3)\n",
    "\n",
    "print(training_data_file_q0)\n",
    "print(fcnm_file_q0)\n",
    "print(rhi_file_q0)"
   ]
  },
  {
   "cell_type": "markdown",
   "id": "1fd02889-1be5-423f-96fe-0548f58bbdce",
   "metadata": {},
   "source": [
    "## Data Preparation"
   ]
  },
  {
   "cell_type": "code",
   "execution_count": 8,
   "id": "e92a6698-fd9d-4564-ab11-f8151271cb0e",
   "metadata": {},
   "outputs": [],
   "source": [
    "cube1, header1 = fits.getdata(training_data_file_q0, header=True)\n",
    "cube2, header2 = fits.getdata(training_data_file_q1, header=True)\n",
    "cube3, header3 = fits.getdata(training_data_file_q2, header=True)\n",
    "cube4, header4 = fits.getdata(training_data_file_q3, header=True)\n",
    "#\n",
    "fcnm_data1, header1 = fits.getdata(fcnm_file_q0, header=True)\n",
    "fcnm_data2, header2 = fits.getdata(fcnm_file_q1, header=True)\n",
    "fcnm_data3, header3 = fits.getdata(fcnm_file_q2, header=True)\n",
    "fcnm_data4, header4 = fits.getdata(fcnm_file_q3, header=True)\n",
    "#\n",
    "rhi_data1, header1 = fits.getdata(rhi_file_q0, header=True)\n",
    "rhi_data2, header2 = fits.getdata(rhi_file_q1, header=True)\n",
    "rhi_data3, header3 = fits.getdata(rhi_file_q2, header=True)\n",
    "rhi_data4, header4 = fits.getdata(rhi_file_q3, header=True)"
   ]
  },
  {
   "cell_type": "code",
   "execution_count": 23,
   "id": "6874395c-161f-48b9-8d89-623ee0f93b6a",
   "metadata": {},
   "outputs": [
    {
     "name": "stdout",
     "output_type": "stream",
     "text": [
      "(101, 512, 512)\n",
      "(512, 512)\n",
      "(512, 512)\n"
     ]
    }
   ],
   "source": [
    "print(cube3.shape)\n",
    "print(fcnm_data3.shape)\n",
    "print(rhi_data3.shape)"
   ]
  },
  {
   "cell_type": "code",
   "execution_count": 50,
   "id": "3bf78553-51e6-45aa-83ec-93e1010f9515",
   "metadata": {},
   "outputs": [],
   "source": [
    "dictt = {}\n",
    "# cube 3\n",
    "num=512*512\n",
    "for i in range(0, num):\n",
    "    index=i\n",
    "    row_index = index//512\n",
    "    column_index = index%512\n",
    "    dictt[i] = (cube3[:,row_index, column_index], [fcnm_data3[row_index, column_index], rhi_data3[row_index, column_index]], [0, row_index, column_index])\n",
    "\n",
    "# cube 4\n",
    "#for i in range(num, 2*num):\n",
    "#    index = i-num\n",
    "#    row_index = index//512\n",
    "#    column_index = index%512\n",
    "#    dictt[i] = (cube4[:,row_index, column_index ], [fcnm_data4[row_index, column_index], rhi_data4[row_index, column_index]], [1, row_index, column_index])"
   ]
  },
  {
   "cell_type": "code",
   "execution_count": 51,
   "id": "4a7216dc-3321-4f9d-8045-5ae649fe6405",
   "metadata": {},
   "outputs": [],
   "source": [
    "PEV = 'poly_concate'"
   ]
  },
  {
   "cell_type": "code",
   "execution_count": 52,
   "id": "a1b32aa3-31d4-4650-99b7-e3c85f7bcc91",
   "metadata": {},
   "outputs": [],
   "source": [
    "dataset_test = data_loader.spectra_cube_loader(dictt,\n",
    "                                          transform=data_loader.ToTensor(),\n",
    "                                          target_transform=data_loader.ToTensor(),\n",
    "                                          pe=PEV)\n",
    "test_loader = torch.utils.data.DataLoader(dataset = dataset_test,\n",
    "                                          batch_size = 1,\n",
    "                                          shuffle =False)"
   ]
  },
  {
   "cell_type": "markdown",
   "id": "0c4b31ca-6c5f-4212-a062-cbd841d7e2db",
   "metadata": {},
   "source": [
    "## Model"
   ]
  },
  {
   "cell_type": "code",
   "execution_count": 53,
   "id": "2860d4cd-99ff-47d3-887b-f8ca0ba5c7a9",
   "metadata": {},
   "outputs": [
    {
     "data": {
      "text/plain": [
       "<All keys matched successfully>"
      ]
     },
     "execution_count": 53,
     "metadata": {},
     "output_type": "execute_result"
    }
   ],
   "source": [
    "model =  CNN.spectra_cnn_small(num_output=2,\n",
    "                             in_channels=1,\n",
    "                             input_row = 2,\n",
    "                             input_column=101,\n",
    "                             num_layer = 8,\n",
    "                             drop_out_rate=0,\n",
    "                             lpe=False)\n",
    "checkpoint = torch.load(f'./checkpoint/{PEV}.pth',map_location=torch.device('cpu'))\n",
    "model.load_state_dict(checkpoint['net'])"
   ]
  },
  {
   "cell_type": "markdown",
   "id": "f1701ce9-a1a1-47ba-837d-df0f412182b3",
   "metadata": {},
   "source": [
    "## Test method"
   ]
  },
  {
   "cell_type": "code",
   "execution_count": 111,
   "id": "d8b6b93d-03d7-4a44-8710-c0b76900434a",
   "metadata": {},
   "outputs": [],
   "source": [
    "def test(model, test_loader, device):\n",
    "    \"\"\"\n",
    "    test the model.\n",
    "    Parameters\n",
    "    ----------\n",
    "    model : model.\n",
    "        the model.\n",
    "    dictt: dict\n",
    "        data.\n",
    "    Returns\n",
    "    -------\n",
    "    error: The mean MSE in test set. \n",
    "    \"\"\"\n",
    "    model.eval()\n",
    "    test_loss = 0\n",
    "    total = 0\n",
    "    device = device\n",
    "    loss_function = nn.MSELoss()\n",
    "    with torch.no_grad():\n",
    "        for index, (inputs, values) in enumerate(test_loader):\n",
    "            inputs = inputs.float()\n",
    "            values = values.float()\n",
    "            #print(inputs)\n",
    "            inputs, values = inputs.to(device), values.to(device)\n",
    "            # forward \n",
    "            outputs = model(inputs)\n",
    "            #print(outputs[0][0])\n",
    "            #print(outputs[0][1])\n",
    "            \n",
    "            loss = loss_function(outputs, values)\n",
    "            test_loss =test_loss+ (loss.item()* values.size(0))\n",
    "            total += values.size(0)\n",
    "        return test_loss/total"
   ]
  },
  {
   "cell_type": "code",
   "execution_count": 113,
   "id": "cdc63384-3228-4c51-a70b-ef379f67d111",
   "metadata": {},
   "outputs": [
    {
     "ename": "KeyboardInterrupt",
     "evalue": "",
     "output_type": "error",
     "traceback": [
      "\u001b[1;31m---------------------------------------------------------------------------\u001b[0m",
      "\u001b[1;31mKeyboardInterrupt\u001b[0m                         Traceback (most recent call last)",
      "Cell \u001b[1;32mIn[113], line 1\u001b[0m\n\u001b[1;32m----> 1\u001b[0m \u001b[38;5;28mprint\u001b[39m(\u001b[38;5;124m'\u001b[39m\u001b[38;5;124mMSE=\u001b[39m\u001b[38;5;124m'\u001b[39m,\u001b[43mtest\u001b[49m\u001b[43m(\u001b[49m\u001b[43mmodel\u001b[49m\u001b[43m,\u001b[49m\u001b[43m \u001b[49m\u001b[43mtest_loader\u001b[49m\u001b[43m,\u001b[49m\u001b[38;5;124;43m'\u001b[39;49m\u001b[38;5;124;43mcpu\u001b[39;49m\u001b[38;5;124;43m'\u001b[39;49m\u001b[43m)\u001b[49m)\n",
      "Cell \u001b[1;32mIn[111], line 26\u001b[0m, in \u001b[0;36mtest\u001b[1;34m(model, test_loader, device)\u001b[0m\n\u001b[0;32m     24\u001b[0m inputs, values \u001b[38;5;241m=\u001b[39m inputs\u001b[38;5;241m.\u001b[39mto(device), values\u001b[38;5;241m.\u001b[39mto(device)\n\u001b[0;32m     25\u001b[0m \u001b[38;5;66;03m# forward \u001b[39;00m\n\u001b[1;32m---> 26\u001b[0m outputs \u001b[38;5;241m=\u001b[39m \u001b[43mmodel\u001b[49m\u001b[43m(\u001b[49m\u001b[43minputs\u001b[49m\u001b[43m)\u001b[49m\n\u001b[0;32m     27\u001b[0m \u001b[38;5;66;03m#print(outputs[0][0])\u001b[39;00m\n\u001b[0;32m     28\u001b[0m \u001b[38;5;66;03m#print(outputs[0][1])\u001b[39;00m\n\u001b[0;32m     30\u001b[0m loss \u001b[38;5;241m=\u001b[39m loss_function(outputs, values)\n",
      "File \u001b[1;32m~\\anaconda3\\lib\\site-packages\\torch\\nn\\modules\\module.py:1194\u001b[0m, in \u001b[0;36mModule._call_impl\u001b[1;34m(self, *input, **kwargs)\u001b[0m\n\u001b[0;32m   1190\u001b[0m \u001b[38;5;66;03m# If we don't have any hooks, we want to skip the rest of the logic in\u001b[39;00m\n\u001b[0;32m   1191\u001b[0m \u001b[38;5;66;03m# this function, and just call forward.\u001b[39;00m\n\u001b[0;32m   1192\u001b[0m \u001b[38;5;28;01mif\u001b[39;00m \u001b[38;5;129;01mnot\u001b[39;00m (\u001b[38;5;28mself\u001b[39m\u001b[38;5;241m.\u001b[39m_backward_hooks \u001b[38;5;129;01mor\u001b[39;00m \u001b[38;5;28mself\u001b[39m\u001b[38;5;241m.\u001b[39m_forward_hooks \u001b[38;5;129;01mor\u001b[39;00m \u001b[38;5;28mself\u001b[39m\u001b[38;5;241m.\u001b[39m_forward_pre_hooks \u001b[38;5;129;01mor\u001b[39;00m _global_backward_hooks\n\u001b[0;32m   1193\u001b[0m         \u001b[38;5;129;01mor\u001b[39;00m _global_forward_hooks \u001b[38;5;129;01mor\u001b[39;00m _global_forward_pre_hooks):\n\u001b[1;32m-> 1194\u001b[0m     \u001b[38;5;28;01mreturn\u001b[39;00m forward_call(\u001b[38;5;241m*\u001b[39m\u001b[38;5;28minput\u001b[39m, \u001b[38;5;241m*\u001b[39m\u001b[38;5;241m*\u001b[39mkwargs)\n\u001b[0;32m   1195\u001b[0m \u001b[38;5;66;03m# Do not call functions when jit is used\u001b[39;00m\n\u001b[0;32m   1196\u001b[0m full_backward_hooks, non_full_backward_hooks \u001b[38;5;241m=\u001b[39m [], []\n",
      "File \u001b[1;32m~\\Desktop\\New folder (6)\\HI\\ML\\Experiment_3_10trails\\CNN.py:133\u001b[0m, in \u001b[0;36mspectra_cnn_small.forward\u001b[1;34m(self, x)\u001b[0m\n\u001b[0;32m    130\u001b[0m     x \u001b[38;5;241m=\u001b[39m x \u001b[38;5;241m+\u001b[39m \u001b[38;5;28mself\u001b[39m\u001b[38;5;241m.\u001b[39mpos_embedding\n\u001b[0;32m    131\u001b[0m \u001b[38;5;28;01mfor\u001b[39;00m layer \u001b[38;5;129;01min\u001b[39;00m \u001b[38;5;28mself\u001b[39m\u001b[38;5;241m.\u001b[39mlayers[:\u001b[38;5;241m-\u001b[39m\u001b[38;5;241m1\u001b[39m]:\n\u001b[0;32m    132\u001b[0m     \u001b[38;5;66;03m#print('layer=', layer)\u001b[39;00m\n\u001b[1;32m--> 133\u001b[0m     x \u001b[38;5;241m=\u001b[39m \u001b[43mlayer\u001b[49m\u001b[43m(\u001b[49m\u001b[43mx\u001b[49m\u001b[43m)\u001b[49m\n\u001b[0;32m    134\u001b[0m x \u001b[38;5;241m=\u001b[39m \u001b[38;5;28mself\u001b[39m\u001b[38;5;241m.\u001b[39mlinear(x)\n\u001b[0;32m    135\u001b[0m \u001b[38;5;28;01mreturn\u001b[39;00m x\n",
      "File \u001b[1;32m~\\anaconda3\\lib\\site-packages\\torch\\nn\\modules\\module.py:1194\u001b[0m, in \u001b[0;36mModule._call_impl\u001b[1;34m(self, *input, **kwargs)\u001b[0m\n\u001b[0;32m   1190\u001b[0m \u001b[38;5;66;03m# If we don't have any hooks, we want to skip the rest of the logic in\u001b[39;00m\n\u001b[0;32m   1191\u001b[0m \u001b[38;5;66;03m# this function, and just call forward.\u001b[39;00m\n\u001b[0;32m   1192\u001b[0m \u001b[38;5;28;01mif\u001b[39;00m \u001b[38;5;129;01mnot\u001b[39;00m (\u001b[38;5;28mself\u001b[39m\u001b[38;5;241m.\u001b[39m_backward_hooks \u001b[38;5;129;01mor\u001b[39;00m \u001b[38;5;28mself\u001b[39m\u001b[38;5;241m.\u001b[39m_forward_hooks \u001b[38;5;129;01mor\u001b[39;00m \u001b[38;5;28mself\u001b[39m\u001b[38;5;241m.\u001b[39m_forward_pre_hooks \u001b[38;5;129;01mor\u001b[39;00m _global_backward_hooks\n\u001b[0;32m   1193\u001b[0m         \u001b[38;5;129;01mor\u001b[39;00m _global_forward_hooks \u001b[38;5;129;01mor\u001b[39;00m _global_forward_pre_hooks):\n\u001b[1;32m-> 1194\u001b[0m     \u001b[38;5;28;01mreturn\u001b[39;00m forward_call(\u001b[38;5;241m*\u001b[39m\u001b[38;5;28minput\u001b[39m, \u001b[38;5;241m*\u001b[39m\u001b[38;5;241m*\u001b[39mkwargs)\n\u001b[0;32m   1195\u001b[0m \u001b[38;5;66;03m# Do not call functions when jit is used\u001b[39;00m\n\u001b[0;32m   1196\u001b[0m full_backward_hooks, non_full_backward_hooks \u001b[38;5;241m=\u001b[39m [], []\n",
      "File \u001b[1;32m~\\anaconda3\\lib\\site-packages\\torch\\nn\\modules\\conv.py:463\u001b[0m, in \u001b[0;36mConv2d.forward\u001b[1;34m(self, input)\u001b[0m\n\u001b[0;32m    462\u001b[0m \u001b[38;5;28;01mdef\u001b[39;00m \u001b[38;5;21mforward\u001b[39m(\u001b[38;5;28mself\u001b[39m, \u001b[38;5;28minput\u001b[39m: Tensor) \u001b[38;5;241m-\u001b[39m\u001b[38;5;241m>\u001b[39m Tensor:\n\u001b[1;32m--> 463\u001b[0m     \u001b[38;5;28;01mreturn\u001b[39;00m \u001b[38;5;28;43mself\u001b[39;49m\u001b[38;5;241;43m.\u001b[39;49m\u001b[43m_conv_forward\u001b[49m\u001b[43m(\u001b[49m\u001b[38;5;28;43minput\u001b[39;49m\u001b[43m,\u001b[49m\u001b[43m \u001b[49m\u001b[38;5;28;43mself\u001b[39;49m\u001b[38;5;241;43m.\u001b[39;49m\u001b[43mweight\u001b[49m\u001b[43m,\u001b[49m\u001b[43m \u001b[49m\u001b[38;5;28;43mself\u001b[39;49m\u001b[38;5;241;43m.\u001b[39;49m\u001b[43mbias\u001b[49m\u001b[43m)\u001b[49m\n",
      "File \u001b[1;32m~\\anaconda3\\lib\\site-packages\\torch\\nn\\modules\\conv.py:459\u001b[0m, in \u001b[0;36mConv2d._conv_forward\u001b[1;34m(self, input, weight, bias)\u001b[0m\n\u001b[0;32m    455\u001b[0m \u001b[38;5;28;01mif\u001b[39;00m \u001b[38;5;28mself\u001b[39m\u001b[38;5;241m.\u001b[39mpadding_mode \u001b[38;5;241m!=\u001b[39m \u001b[38;5;124m'\u001b[39m\u001b[38;5;124mzeros\u001b[39m\u001b[38;5;124m'\u001b[39m:\n\u001b[0;32m    456\u001b[0m     \u001b[38;5;28;01mreturn\u001b[39;00m F\u001b[38;5;241m.\u001b[39mconv2d(F\u001b[38;5;241m.\u001b[39mpad(\u001b[38;5;28minput\u001b[39m, \u001b[38;5;28mself\u001b[39m\u001b[38;5;241m.\u001b[39m_reversed_padding_repeated_twice, mode\u001b[38;5;241m=\u001b[39m\u001b[38;5;28mself\u001b[39m\u001b[38;5;241m.\u001b[39mpadding_mode),\n\u001b[0;32m    457\u001b[0m                     weight, bias, \u001b[38;5;28mself\u001b[39m\u001b[38;5;241m.\u001b[39mstride,\n\u001b[0;32m    458\u001b[0m                     _pair(\u001b[38;5;241m0\u001b[39m), \u001b[38;5;28mself\u001b[39m\u001b[38;5;241m.\u001b[39mdilation, \u001b[38;5;28mself\u001b[39m\u001b[38;5;241m.\u001b[39mgroups)\n\u001b[1;32m--> 459\u001b[0m \u001b[38;5;28;01mreturn\u001b[39;00m \u001b[43mF\u001b[49m\u001b[38;5;241;43m.\u001b[39;49m\u001b[43mconv2d\u001b[49m\u001b[43m(\u001b[49m\u001b[38;5;28;43minput\u001b[39;49m\u001b[43m,\u001b[49m\u001b[43m \u001b[49m\u001b[43mweight\u001b[49m\u001b[43m,\u001b[49m\u001b[43m \u001b[49m\u001b[43mbias\u001b[49m\u001b[43m,\u001b[49m\u001b[43m \u001b[49m\u001b[38;5;28;43mself\u001b[39;49m\u001b[38;5;241;43m.\u001b[39;49m\u001b[43mstride\u001b[49m\u001b[43m,\u001b[49m\n\u001b[0;32m    460\u001b[0m \u001b[43m                \u001b[49m\u001b[38;5;28;43mself\u001b[39;49m\u001b[38;5;241;43m.\u001b[39;49m\u001b[43mpadding\u001b[49m\u001b[43m,\u001b[49m\u001b[43m \u001b[49m\u001b[38;5;28;43mself\u001b[39;49m\u001b[38;5;241;43m.\u001b[39;49m\u001b[43mdilation\u001b[49m\u001b[43m,\u001b[49m\u001b[43m \u001b[49m\u001b[38;5;28;43mself\u001b[39;49m\u001b[38;5;241;43m.\u001b[39;49m\u001b[43mgroups\u001b[49m\u001b[43m)\u001b[49m\n",
      "\u001b[1;31mKeyboardInterrupt\u001b[0m: "
     ]
    }
   ],
   "source": [
    "print('MSE=',test(model, test_loader,'cpu'))"
   ]
  },
  {
   "cell_type": "code",
   "execution_count": null,
   "id": "9fc7b847-3de9-4666-8ebf-aae6299ce68d",
   "metadata": {},
   "outputs": [],
   "source": [
    "\"\"\"\n",
    "    predict: A method to predict the results.\n",
    "    \n",
    "    input Attributes\n",
    "    ----------\n",
    "    dictt: dictionary \n",
    "        the  dictionary that contains only one data cube spectra.\n",
    "\"\"\"\n",
    "def predict(dictt):\n",
    "    Fcnm = np.zeros((512,512,1), np.uint8)\n",
    "    Rhi = np.zeros((512,512,1), np.uint8)\n",
    "    for i in range(0, len(dictt)):\n",
    "        if(i%10000==0):\n",
    "            print(i)\n",
    "        o = dictt.get(i)\n",
    "        spectra = np.array(o[0])\n",
    "        spectra = np.vstack((spectra, spectra**2)).reshape(1,1, 2,-1).astype(np.float32)\n",
    "        spectra = torch.from_numpy(spectra)\n",
    "        ground_truth = o[1]\n",
    "        position = o[2]\n",
    "        prediction = model(spectra)\n",
    "        #print(prediction[0][1].detach().numpy())\n",
    "        Fcnm[position[1], position[2]] =abs(prediction[0][0]).detach().numpy()\n",
    "        Rhi[position[1], position[2]] =prediction[0][1].detach().numpy()\n",
    "    return Fcnm, Rhi"
   ]
  },
  {
   "cell_type": "code",
   "execution_count": null,
   "id": "dc33ad0a-161e-42ca-a1ba-0a55d2989aec",
   "metadata": {},
   "outputs": [],
   "source": [
    "Fcnm, Rhi = predict(dictt)"
   ]
  },
  {
   "cell_type": "code",
   "execution_count": null,
   "id": "834a1eee-7579-4146-a076-5980597d5192",
   "metadata": {},
   "outputs": [],
   "source": [
    "print(Fcnm)"
   ]
  },
  {
   "cell_type": "code",
   "execution_count": null,
   "id": "4180e477-c18e-4c52-805b-43dd302005a6",
   "metadata": {},
   "outputs": [],
   "source": [
    "def plot_(im):\n",
    "    plt.figure(figsize=(10, 10))\n",
    "    plt.imshow(im)\n",
    "    #plt.title(f'{index} th datacube')\n",
    "    plt.show()"
   ]
  },
  {
   "cell_type": "code",
   "execution_count": null,
   "id": "929160b5-5885-421d-9ddf-b72d35f9b9dd",
   "metadata": {},
   "outputs": [],
   "source": [
    "plot_(fcnm_data3)"
   ]
  },
  {
   "cell_type": "code",
   "execution_count": null,
   "id": "42e0a0c9-b7a4-4af5-b7d9-686a716427d8",
   "metadata": {},
   "outputs": [],
   "source": [
    "plot_(Fcnm)"
   ]
  },
  {
   "cell_type": "code",
   "execution_count": null,
   "id": "81195549-3d14-4f2f-8091-b7208beba988",
   "metadata": {},
   "outputs": [],
   "source": [
    "plot_(rhi_data3)"
   ]
  },
  {
   "cell_type": "code",
   "execution_count": null,
   "id": "cc8fdce8-b142-4f51-8370-790d7f12b43f",
   "metadata": {},
   "outputs": [],
   "source": [
    "plot_(Rhi)"
   ]
  },
  {
   "cell_type": "code",
   "execution_count": null,
   "id": "8debcaa1-cafd-4aa6-9447-ccd2b7361080",
   "metadata": {},
   "outputs": [],
   "source": []
  }
 ],
 "metadata": {
  "kernelspec": {
   "display_name": "Python 3 (ipykernel)",
   "language": "python",
   "name": "python3"
  },
  "language_info": {
   "codemirror_mode": {
    "name": "ipython",
    "version": 3
   },
   "file_extension": ".py",
   "mimetype": "text/x-python",
   "name": "python",
   "nbconvert_exporter": "python",
   "pygments_lexer": "ipython3",
   "version": "3.9.16"
  }
 },
 "nbformat": 4,
 "nbformat_minor": 5
}
