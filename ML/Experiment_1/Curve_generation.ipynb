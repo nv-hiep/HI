{
 "cells": [
  {
   "cell_type": "markdown",
   "id": "fad4dccf-93cb-46fb-b04e-cb4720c1ba5d",
   "metadata": {},
   "source": [
    "# Curve generation"
   ]
  },
  {
   "cell_type": "code",
   "execution_count": 1,
   "id": "7d3bcc9d-75aa-4698-9e31-9c7422605080",
   "metadata": {},
   "outputs": [],
   "source": [
    "import os\n",
    "import sys"
   ]
  },
  {
   "cell_type": "markdown",
   "id": "7b6464bc-6563-4919-b9f8-b33981e2a1d1",
   "metadata": {},
   "source": [
    "# path"
   ]
  },
  {
   "cell_type": "code",
   "execution_count": 2,
   "id": "50d99a9f-36fe-4547-b39f-03dc2b794e57",
   "metadata": {},
   "outputs": [
    {
     "name": "stdout",
     "output_type": "stream",
     "text": [
      "C:\\Users\\jueda\\HI\n"
     ]
    }
   ],
   "source": [
    "print(os.getcwd())"
   ]
  },
  {
   "cell_type": "code",
   "execution_count": 3,
   "id": "5b425453-f738-40e9-8204-6e76d91af571",
   "metadata": {},
   "outputs": [],
   "source": [
    "training_data_kok14_galfa = os.path.join(os.getcwd(),\"data\", \"other\", \"training_data_kok14_galfa.pickle\")"
   ]
  },
  {
   "cell_type": "markdown",
   "id": "a4dece99-360f-4f6a-86b8-4397865fc734",
   "metadata": {},
   "source": [
    "# Libraries"
   ]
  },
  {
   "cell_type": "code",
   "execution_count": 4,
   "id": "a178e0e4-3d8a-4f7f-b9cd-fa5b8d4fa9ea",
   "metadata": {},
   "outputs": [],
   "source": [
    "\n",
    "from __future__ import print_function, division\n",
    "from astropy.io          import fits\n",
    "from astropy             import units as u\n",
    "from astropy.coordinates import SkyCoord\n",
    "\n",
    "import numpy as np\n",
    "import matplotlib.pyplot as plt\n",
    "import matplotlib\n",
    "import pandas as pd\n",
    "from collections import OrderedDict\n",
    "import math\n",
    "import scipy\n",
    "\n",
    "import torch\n",
    "import torch.nn as nn\n",
    "import torch.optim as optim\n",
    "import torchvision.transforms as transforms\n",
    "from sklearn.model_selection import train_test_split\n",
    "import torch.nn.functional as F\n",
    "from torchsummary import summary\n",
    "from torchvision import datasets\n",
    "from torch.optim.lr_scheduler import LambdaLR, StepLR, MultiStepLR, ExponentialLR\n",
    "import os\n",
    "import argparse\n",
    "\n",
    "import glob\n",
    "import pickle"
   ]
  },
  {
   "cell_type": "markdown",
   "id": "4a390fe3-6d79-448e-b7b3-9a16ed1c9608",
   "metadata": {},
   "source": [
    "# Data preparation"
   ]
  },
  {
   "cell_type": "code",
   "execution_count": 5,
   "id": "fbf52802-a658-456e-ae35-e9da5c4ac4bf",
   "metadata": {},
   "outputs": [],
   "source": [
    "data = pickle.load(open(training_data_kok14_galfa, 'rb'))\n",
    "\n",
    "# training data\n",
    "X_train = data['X_train']\n",
    "Y_train = data['Y_train']\n",
    "# Observed test data\n",
    "X_test = data['X_test']\n",
    "Y_test = data['Y_test']"
   ]
  },
  {
   "cell_type": "code",
   "execution_count": 6,
   "id": "6d421b1d-676d-4874-b9b9-3cb6655c259c",
   "metadata": {},
   "outputs": [
    {
     "name": "stdout",
     "output_type": "stream",
     "text": [
      "x_train =  (38781, 414)\n",
      "Y_train =  (38781, 2)\n",
      "X_test =  (58, 414)\n",
      "Y_test =  (58, 2)\n"
     ]
    }
   ],
   "source": [
    "print(\"x_train = \", X_train.shape)\n",
    "print(\"Y_train = \", Y_train.shape)\n",
    "print(\"X_test = \", X_test.shape)\n",
    "print(\"Y_test = \", Y_test.shape)"
   ]
  },
  {
   "cell_type": "markdown",
   "id": "94afa2cd-c673-4b13-a934-e8a53f107d91",
   "metadata": {},
   "source": [
    "## Split train, validation and testing set from X_train and Y_train."
   ]
  },
  {
   "cell_type": "code",
   "execution_count": 7,
   "id": "53afc29b-8e4e-40e8-ba9b-646572771e76",
   "metadata": {},
   "outputs": [],
   "source": [
    "x_train = X_train[0:23268, :]\n",
    "y_train = Y_train[0:23268, :]\n",
    "\n",
    "x_val = X_train[23268: 31024, :]\n",
    "y_val = Y_train[23268: 31024, :]\n",
    "\n",
    "x_test = X_train[31024:, :]\n",
    "y_test = Y_train[31024:, :]"
   ]
  },
  {
   "cell_type": "code",
   "execution_count": 8,
   "id": "ef646d8f-13ef-4459-9314-d78bb7877839",
   "metadata": {},
   "outputs": [
    {
     "name": "stdout",
     "output_type": "stream",
     "text": [
      "x_train= (23268, 414) , y_train= (23268, 2)\n",
      "x_val= (7756, 414) , y_val= (7756, 2)\n",
      "x_test= (7757, 414) , y_test= (7757, 2)\n"
     ]
    }
   ],
   "source": [
    "print(\"x_train=\",x_train.shape, \", y_train=\", y_train.shape)\n",
    "print(\"x_val=\",x_val.shape, \", y_val=\", y_val.shape)\n",
    "print(\"x_test=\",x_test.shape, \", y_test=\", y_test.shape)"
   ]
  },
  {
   "cell_type": "markdown",
   "id": "b2a0091b-91ee-40b9-a128-9d048d9f2322",
   "metadata": {},
   "source": [
    "# Plot few spectra gram"
   ]
  },
  {
   "cell_type": "code",
   "execution_count": 9,
   "id": "4ed18ea9-9ad5-4177-91ae-91cc8b7fec82",
   "metadata": {},
   "outputs": [],
   "source": [
    "#https://stackoverflow.com/questions/70397729/how-to-convert-a-matplotlib-spectrogram-image-into-a-torch-tensor?noredirect=1&lq=1"
   ]
  },
  {
   "cell_type": "code",
   "execution_count": 10,
   "id": "8b2c82eb-80eb-4ab5-88ae-4ad6b56b56fc",
   "metadata": {},
   "outputs": [
    {
     "data": {
      "text/plain": [
       "(-20.650000000000002, 433.65, -2.1591018190987477, 26.685137110070276)"
      ]
     },
     "execution_count": 10,
     "metadata": {},
     "output_type": "execute_result"
    },
    {
     "data": {
      "image/png": "[encoded data removed]",
      "text/plain": [
       "<Figure size 600x400 with 1 Axes>"
      ]
     },
     "metadata": {},
     "output_type": "display_data"
    }
   ],
   "source": [
    "x = x_train[0, :]\n",
    "plt.figure(figsize=(6,4))\n",
    "plt.plot(x, label=f'Fcnm = {round(Y_train[20000,0], 2)}, R = {round(Y_train[0,1], 2)}')\n",
    "plt.xlabel('Channels')\n",
    "plt.ylabel('T$_b$ [K]')\n",
    "#plt.legend()\n",
    "plt.axis('off')\n"
   ]
  },
  {
   "cell_type": "code",
   "execution_count": 12,
   "id": "33509e42-9693-4eec-b33e-cbcde475771c",
   "metadata": {},
   "outputs": [
    {
     "data": {
      "text/plain": [
       "(-20.650000000000002, 433.65, -4.427240253514374, 75.19604470486722)"
      ]
     },
     "execution_count": 12,
     "metadata": {},
     "output_type": "execute_result"
    },
    {
     "data": {
      "image/png": "[encoded data removed]",
      "text/plain": [
       "<Figure size 600x400 with 1 Axes>"
      ]
     },
     "metadata": {},
     "output_type": "display_data"
    }
   ],
   "source": [
    "x = x_train[1000, :]\n",
    "\n",
    "plt.figure(figsize=(6,4))\n",
    "plt.plot(x, label=f'Fcnm = {round(Y_train[20000,0], 2)}, R = {round(Y_train[0,1], 2)}')\n",
    "plt.xlabel('Channels')\n",
    "plt.ylabel('T$_b$ [K]')\n",
    "#plt.legend()\n",
    "plt.axis('off')"
   ]
  },
  {
   "cell_type": "code",
   "execution_count": 15,
   "id": "64f519f5-5736-483e-8f1c-4477e3573a80",
   "metadata": {},
   "outputs": [
    {
     "data": {
      "text/plain": [
       "(-20.650000000000002, 433.65, -1.4476154510301036, 8.927922919050387)"
      ]
     },
     "execution_count": 15,
     "metadata": {},
     "output_type": "execute_result"
    },
    {
     "data": {
      "image/png": "[encoded data removed]",
      "text/plain": [
       "<Figure size 600x400 with 1 Axes>"
      ]
     },
     "metadata": {},
     "output_type": "display_data"
    }
   ],
   "source": [
    "x = x_train[2000, :]\n",
    "\n",
    "plt.figure(figsize=(6,4))\n",
    "plt.plot(x, label=f'Fcnm = {round(Y_train[20000,0], 2)}, R = {round(Y_train[0,1], 2)}')\n",
    "plt.xlabel('Velocity')\n",
    "plt.ylabel('T$_b$ [K]')\n",
    "#plt.legend()\n",
    "plt.axis('off')"
   ]
  },
  {
   "cell_type": "markdown",
   "id": "05ed9bad-2483-4ed3-9c7a-ff2146834733",
   "metadata": {},
   "source": [
    "## Save spectragram"
   ]
  },
  {
   "cell_type": "markdown",
   "id": "e8bd4022-40a1-4763-9caa-c340f9235b97",
   "metadata": {},
   "source": [
    "### training set"
   ]
  },
  {
   "cell_type": "code",
   "execution_count": 17,
   "id": "da4f7f05-2c7a-4fe7-8fbd-975923b3345f",
   "metadata": {},
   "outputs": [
    {
     "name": "stdout",
     "output_type": "stream",
     "text": [
      "Done.\n"
     ]
    }
   ],
   "source": [
    "for i in range(0, x_train.shape[0]):\n",
    "    x = x_train[i]\n",
    "    plt.figure(figsize=(6,4))\n",
    "    plt.axis('off')\n",
    "    plt.plot(x, label=f'Fcnm = {round(Y_train[10000,0], 2)}, R = {round(Y_train[10000,1], 2)}')\n",
    "    plt.savefig(f'C:\\\\Users\\\\jueda\\\\Desktop\\\\image\\\\curve\\\\x_train\\\\{i}.jpg')\n",
    "    plt.clf()\n",
    "    plt.close()\n",
    "print('Done.')"
   ]
  },
  {
   "cell_type": "markdown",
   "id": "2d957c05-2ed1-46ca-ab55-b5ead3cc7223",
   "metadata": {},
   "source": [
    "### validation set"
   ]
  },
  {
   "cell_type": "code",
   "execution_count": 18,
   "id": "ea33e697-6805-4a6d-8bfa-54c0b37a0739",
   "metadata": {},
   "outputs": [
    {
     "name": "stdout",
     "output_type": "stream",
     "text": [
      "Done.\n"
     ]
    }
   ],
   "source": [
    "for i in range(0, x_val.shape[0]):\n",
    "    x = x_val[i]\n",
    "    plt.figure(figsize=(6,4))\n",
    "    plt.axis('off')\n",
    "    plt.plot(x, label=f'Fcnm = {round(Y_train[10000,0], 2)}, R = {round(Y_train[10000,1], 2)}')\n",
    "    plt.savefig(f'C:\\\\Users\\\\jueda\\\\Desktop\\\\image\\\\curve\\\\x_vali\\\\{i}.jpg')\n",
    "    plt.clf()\n",
    "    plt.close()\n",
    "print('Done.')"
   ]
  },
  {
   "cell_type": "markdown",
   "id": "c452105d-7bed-4fad-b096-dec43691a36c",
   "metadata": {},
   "source": [
    "### testing set "
   ]
  },
  {
   "cell_type": "code",
   "execution_count": 19,
   "id": "a858bc8d-e472-4653-86aa-1ad2b99a9325",
   "metadata": {},
   "outputs": [
    {
     "name": "stdout",
     "output_type": "stream",
     "text": [
      "Done.\n"
     ]
    }
   ],
   "source": [
    "for i in range(0, x_test.shape[0]):\n",
    "    x = x_test[i]\n",
    "    plt.figure(figsize=(6,4))\n",
    "    plt.axis('off')\n",
    "    plt.plot(x, label=f'Fcnm = {round(Y_train[10000,0], 2)}, R = {round(Y_train[10000,1], 2)}')\n",
    "    plt.savefig(f'C:\\\\Users\\\\jueda\\\\Desktop\\\\image\\\\curve\\\\x_test\\\\{i}.jpg')\n",
    "    plt.clf()\n",
    "    plt.close()\n",
    "print('Done.')"
   ]
  },
  {
   "cell_type": "code",
   "execution_count": null,
   "id": "362563a0-ed85-45fd-a0b7-92eb1e6cd81c",
   "metadata": {},
   "outputs": [],
   "source": []
  }
 ],
 "metadata": {
  "kernelspec": {
   "display_name": "Python 3 (ipykernel)",
   "language": "python",
   "name": "python3"
  },
  "language_info": {
   "codemirror_mode": {
    "name": "ipython",
    "version": 3
   },
   "file_extension": ".py",
   "mimetype": "text/x-python",
   "name": "python",
   "nbconvert_exporter": "python",
   "pygments_lexer": "ipython3",
   "version": "3.9.16"
  }
 },
 "nbformat": 4,
 "nbformat_minor": 5
}
