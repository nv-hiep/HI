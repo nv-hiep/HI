{
  "cells": [
    {
      "cell_type": "markdown",
      "metadata": {
        "id": "EBVnYdjegs6x"
      },
      "source": [
        "# Connect and authorize google drive"
      ],
      "id": "EBVnYdjegs6x"
    },
    {
      "cell_type": "code",
      "execution_count": null,
      "metadata": {
        "id": "PjjcQSpya_FR",
        "colab": {
          "base_uri": "https://localhost:8080/"
        },
        "outputId": "d6c784b5-aaea-47cd-b2e4-aac185afc6fa"
      },
      "outputs": [
        {
          "output_type": "stream",
          "name": "stdout",
          "text": [
            "Mounted at /content/gdrive\n",
            "gdrive\tsample_data\n"
          ]
        }
      ],
      "source": [
        "from google.colab import drive\n",
        "drive.mount('/content/gdrive')\n",
        "!ls"
      ],
      "id": "PjjcQSpya_FR"
    },
    {
      "cell_type": "code",
      "execution_count": null,
      "metadata": {
        "id": "iYM4wmy-cFlK"
      },
      "outputs": [],
      "source": [
        "# %cd /content/gdrive/My Drive/\n",
        "%cd /content/gdrive/My Drive/Colab Notebooks/ML_HI/tano_signal/\n",
        "!ls"
      ],
      "id": "iYM4wmy-cFlK"
    },
    {
      "cell_type": "code",
      "execution_count": null,
      "metadata": {
        "id": "zDC7-KCeaAeb",
        "colab": {
          "base_uri": "https://localhost:8080/"
        },
        "outputId": "0430c9c1-52ba-462a-afa2-f1e4e33e5f52"
      },
      "outputs": [
        {
          "output_type": "stream",
          "name": "stdout",
          "text": [
            "/content/gdrive/My Drive/Colab Notebooks/ML_HI/tano_signal\n"
          ]
        }
      ],
      "source": [
        "! pwd"
      ],
      "id": "zDC7-KCeaAeb"
    },
    {
      "cell_type": "markdown",
      "source": [
        "# Install"
      ],
      "metadata": {
        "id": "ap5pmG84CBkL"
      },
      "id": "ap5pmG84CBkL"
    },
    {
      "cell_type": "code",
      "source": [
        "! pip install spectral_cube"
      ],
      "metadata": {
        "id": "OSQFb6lTCEIi"
      },
      "execution_count": null,
      "outputs": [],
      "id": "OSQFb6lTCEIi"
    },
    {
      "cell_type": "markdown",
      "metadata": {
        "id": "36737934-3386-45e4-a936-e1faba91c343"
      },
      "source": [
        "# Libraries"
      ],
      "id": "36737934-3386-45e4-a936-e1faba91c343"
    },
    {
      "cell_type": "code",
      "execution_count": null,
      "metadata": {
        "id": "760c367a-2fea-43d6-a704-4e9e95433084"
      },
      "outputs": [],
      "source": [
        "import sys\n",
        "import os\n",
        "import copy\n",
        "import torch\n",
        "\n",
        "import numpy as np\n",
        "import pandas as pd\n",
        "\n",
        "from astropy.io  import fits\n",
        "from astropy     import units as u\n",
        "from astropy.wcs import WCS\n",
        "\n",
        "import matplotlib.pyplot as plt\n",
        "import matplotlib.gridspec as gridspec\n",
        "\n",
        "from spectral_cube import SpectralCube\n",
        "\n",
        "from pathlib import Path"
      ],
      "id": "760c367a-2fea-43d6-a704-4e9e95433084"
    },
    {
      "cell_type": "code",
      "source": [
        "plt.rcParams['mathtext.fontset'] = 'cm'\n",
        "plt.rcParams['font.family'] = 'STIXGeneral'"
      ],
      "metadata": {
        "id": "NLz9bCJoSSi7"
      },
      "id": "NLz9bCJoSSi7",
      "execution_count": null,
      "outputs": []
    },
    {
      "cell_type": "markdown",
      "source": [
        "# GPU or CPU"
      ],
      "metadata": {
        "id": "PWdW8vj0Ft1o"
      },
      "id": "PWdW8vj0Ft1o"
    },
    {
      "cell_type": "code",
      "source": [
        "# GPU or CPU\n",
        "device = torch.device('cuda' if torch.cuda.is_available() else 'cpu')\n",
        "print('device: ', device)\n",
        "print('device_count: ', torch.cuda.device_count())"
      ],
      "metadata": {
        "colab": {
          "base_uri": "https://localhost:8080/"
        },
        "id": "f2ivF5XOFs1x",
        "outputId": "18176348-db64-40b4-86af-79930720dbb2"
      },
      "id": "f2ivF5XOFs1x",
      "execution_count": null,
      "outputs": [
        {
          "output_type": "stream",
          "name": "stdout",
          "text": [
            "device:  cpu\n",
            "device_count:  0\n"
          ]
        }
      ]
    },
    {
      "cell_type": "markdown",
      "source": [
        "# Paths"
      ],
      "metadata": {
        "id": "Lw4T-w0YB67c"
      },
      "id": "Lw4T-w0YB67c"
    },
    {
      "cell_type": "code",
      "source": [
        "base_path = Path('/content/gdrive/MyDrive/Colab Notebooks/ML/')\n",
        "\n",
        "tano_signal_path = base_path / 'tano_signal' / 'tano_signal'\n",
        "checkpoint_path  = tano_signal_path / 'checkpoints'\n",
        "ct101_checkpoint_path = checkpoint_path / 'c101'\n",
        "ct256_checkpoint_path = checkpoint_path / 'c256_1split'\n",
        "cnn101_checkpoint_path = checkpoint_path / 'cnn' / 'c101'\n",
        "\n",
        "data_path     = base_path / 'data'\n",
        "uma_data_path = data_path / 'UMA'\n",
        "\n",
        "tanosignal_path  = base_path / 'tano_signal'\n",
        "tanosignal_pred_path = tanosignal_path / 'pred'\n",
        "bighicat = tanosignal_path / 'bighicat'\n",
        "\n",
        "saury2014_data_path = data_path / 'saury'\n",
        "seta_data_path = data_path / 'seta'\n",
        "\n",
        "print(tano_signal_path)\n",
        "print(checkpoint_path)\n",
        "print(ct101_checkpoint_path)\n",
        "print(cnn101_checkpoint_path)\n",
        "print('UMA: ', uma_data_path)\n",
        "print('Saury 2014: ', saury2014_data_path)"
      ],
      "metadata": {
        "id": "wHaBiKtmB8Wj"
      },
      "id": "wHaBiKtmB8Wj",
      "execution_count": null,
      "outputs": []
    },
    {
      "cell_type": "markdown",
      "source": [
        "# Utils"
      ],
      "metadata": {
        "id": "Bjl546_hCOAb"
      },
      "id": "Bjl546_hCOAb"
    },
    {
      "cell_type": "code",
      "source": [
        "def read_fits_cube(filename):\n",
        "    \"\"\"\n",
        "    Read\n",
        "\n",
        "    Parameters\n",
        "    ----------\n",
        "    filename (string) : filename of FITS file\n",
        "    Input data.\n",
        "\n",
        "    Returns\n",
        "    -------\n",
        "    cube\n",
        "    WCS\n",
        "    X-coordinates\n",
        "    Y-coordinates\n",
        "    Velocity\n",
        "\n",
        "    Other parameters\n",
        "    ----------------\n",
        "    None\n",
        "    \"\"\"\n",
        "\n",
        "    # Read FITS file\n",
        "    dat = fits.open(filename)  # Open the FITS file for reading\n",
        "    c = SpectralCube.read(dat)  # Initiate a SpectralCube\n",
        "\n",
        "    # c = c[:, 10:29, 10:29]\n",
        "\n",
        "    # Parse the WCS keywords in the primary HDU\n",
        "    hdr = dat[0].header\n",
        "    # w = WCS(hdr)\n",
        "\n",
        "    w = WCS(naxis=2)\n",
        "    w.wcs.crpix = [hdr['CRPIX1'], hdr['CRPIX2']]\n",
        "    w.wcs.cdelt = np.array([hdr['CDELT1'], hdr['CDELT2']])\n",
        "    w.wcs.crval = [hdr['CRVAL1'], hdr['CRVAL2']]\n",
        "    w.wcs.ctype = [hdr['CTYPE1'], hdr['CTYPE2']]\n",
        "\n",
        "\n",
        "    dat.close()  # Close the FITS file - we already read it in and don't need it anymore!\n",
        "\n",
        "    print(f\"Cube shape: {c.shape}\") # (vlsr, b, l) : (971, 201, 376)\n",
        "\n",
        "    del dat\n",
        "    # cube = cube.with_spectral_unit(u.km / u.s)\n",
        "\n",
        "    _, _, x = c.world[0, 0, :]      # extract RA: deg\n",
        "    _, y, _ = c.world[0, :, 0]      # extract DEC:  deg\n",
        "    v, _, _ = c.world[:, 0, 0]      # extract velocity\n",
        "\n",
        "    return c, w, x, y, v, hdr"
      ],
      "metadata": {
        "id": "1tko5_joCO9k"
      },
      "execution_count": null,
      "outputs": [],
      "id": "1tko5_joCO9k"
    },
    {
      "cell_type": "code",
      "source": [
        "def get_val_pix(datmap, x, y, w):\n",
        "    # Convert world coordinates to pixel coordinates\n",
        "    xpix, ypix = w.world_to_pixel_values(x, y)\n",
        "\n",
        "    # Round pixel coordinates to nearest integer\n",
        "    xpix = [int(round(xi)) for xi in xpix]\n",
        "    ypix = [int(round(yi)) for yi in ypix]\n",
        "\n",
        "    # Access data array using the computed pixel coordinates\n",
        "    value = datmap[ypix, xpix]\n",
        "\n",
        "    return value, xpix, ypix"
      ],
      "metadata": {
        "id": "3g0l2C7OfBlV"
      },
      "execution_count": null,
      "outputs": [],
      "id": "3g0l2C7OfBlV"
    },
    {
      "cell_type": "markdown",
      "metadata": {
        "id": "Gm2S2GL3ov_B"
      },
      "source": [
        "# Read BIGHICAT"
      ],
      "id": "Gm2S2GL3ov_B"
    },
    {
      "cell_type": "code",
      "execution_count": null,
      "metadata": {
        "id": "fm0lro6Joy1h"
      },
      "outputs": [],
      "source": [
        "bighicat_csvfile = bighicat / 'all_unique_LOS_BIGHICAT.csv'\n",
        "bighicat_df = pd.read_csv(bighicat_csvfile)\n",
        "print('nrows, ncols: ', bighicat_df.shape)\n",
        "bighicat_df"
      ],
      "id": "fm0lro6Joy1h"
    },
    {
      "cell_type": "code",
      "source": [
        "bighicat_fcnm = bighicat_df.f_CNM_LOS.values\n",
        "bighicat_fcnm.shape"
      ],
      "metadata": {
        "colab": {
          "base_uri": "https://localhost:8080/"
        },
        "id": "1HnEA9F657I8",
        "outputId": "b7383024-f28c-4574-ab32-b4098d459b89"
      },
      "id": "1HnEA9F657I8",
      "execution_count": null,
      "outputs": [
        {
          "output_type": "execute_result",
          "data": {
            "text/plain": [
              "(374,)"
            ]
          },
          "metadata": {},
          "execution_count": 14
        }
      ]
    },
    {
      "cell_type": "code",
      "source": [
        "z_df = bighicat_df[~bighicat_df.survey.isin(['MACH', '21-SPONGE', 'Millennium03'])]\n",
        "z_df = z_df[z_df.ncomps > -1]\n",
        "print(z_df.shape)\n",
        "z_gl = z_df.lon.values\n",
        "z_gb = z_df.lat.values\n",
        "z_ncnm = z_df.ncomps.values\n",
        "\n",
        "bighicat_fcnm = z_df.f_CNM_LOS.values"
      ],
      "metadata": {
        "colab": {
          "base_uri": "https://localhost:8080/"
        },
        "id": "-uULYfQC8AgL",
        "outputId": "b3e0f7b5-c17a-46a0-b97e-567fac150bf5"
      },
      "id": "-uULYfQC8AgL",
      "execution_count": null,
      "outputs": [
        {
          "output_type": "stream",
          "name": "stdout",
          "text": [
            "(222, 39)\n"
          ]
        }
      ]
    },
    {
      "cell_type": "markdown",
      "source": [
        "# SPONGE"
      ],
      "metadata": {
        "id": "mSB9cNIS4inL"
      },
      "id": "mSB9cNIS4inL"
    },
    {
      "cell_type": "code",
      "source": [
        "sp_csvfile = bighicat / '21SPONGE_rl_ew.csv'\n",
        "spdf = pd.read_csv(sp_csvfile)\n",
        "spdf = spdf.drop([27, 41]) # Drop 3C245B, J1613 (no result)\n",
        "spdf"
      ],
      "metadata": {
        "id": "_Tyocofb4g-n"
      },
      "id": "_Tyocofb4g-n",
      "execution_count": null,
      "outputs": []
    },
    {
      "cell_type": "code",
      "source": [
        "sp21_fcnm    = spdf['fcnm'].values\n",
        "sp21_sigfcnm = spdf['sigfcnm'].values\n",
        "\n",
        "sp21_rhi    = spdf['rhi'].values\n",
        "sp21_sigrhi = spdf['sigrhi'].values\n",
        "\n",
        "sp21_lat    = np.abs(spdf.lat.values)\n",
        "\n",
        "sp21_fcnm.shape"
      ],
      "metadata": {
        "colab": {
          "base_uri": "https://localhost:8080/"
        },
        "id": "Hk7vLjps9Iy-",
        "outputId": "5f3afc13-dbf0-44d3-ecdc-82ee4394ae76"
      },
      "id": "Hk7vLjps9Iy-",
      "execution_count": null,
      "outputs": [
        {
          "output_type": "execute_result",
          "data": {
            "text/plain": [
              "(54,)"
            ]
          },
          "metadata": {},
          "execution_count": 17
        }
      ]
    },
    {
      "cell_type": "markdown",
      "source": [
        "# MACH"
      ],
      "metadata": {
        "id": "OHJXwQxM4yaq"
      },
      "id": "OHJXwQxM4yaq"
    },
    {
      "cell_type": "code",
      "source": [
        "mach_csvfile = bighicat / 'mach_los_rl_ew.csv'\n",
        "mdf = pd.read_csv(mach_csvfile)\n",
        "mdf"
      ],
      "metadata": {
        "id": "1VieW-4T41Z5"
      },
      "id": "1VieW-4T41Z5",
      "execution_count": null,
      "outputs": []
    },
    {
      "cell_type": "code",
      "source": [
        "m_fcnm    = mdf['fcnm'].values\n",
        "m_sigfcnm = mdf['sigfcnm'].values\n",
        "\n",
        "m_rhi    = mdf['rhi'].values\n",
        "m_sigrhi = mdf['sigrhi'].values\n",
        "\n",
        "m_lat = np.abs(mdf.glat.values)\n",
        "\n",
        "m_fcnm.shape"
      ],
      "metadata": {
        "colab": {
          "base_uri": "https://localhost:8080/"
        },
        "id": "tGS2NauX8lTf",
        "outputId": "76fbbecb-c5d9-419f-f672-6ef2dd97e988"
      },
      "id": "tGS2NauX8lTf",
      "execution_count": null,
      "outputs": [
        {
          "output_type": "execute_result",
          "data": {
            "text/plain": [
              "(44,)"
            ]
          },
          "metadata": {},
          "execution_count": 19
        }
      ]
    },
    {
      "cell_type": "markdown",
      "source": [
        "# MS (HT03)"
      ],
      "metadata": {
        "id": "sLCA73EY453G"
      },
      "id": "sLCA73EY453G"
    },
    {
      "cell_type": "code",
      "source": [
        "ms_csvfile = bighicat / 'ms_los_rl_ew.csv'\n",
        "msdf = pd.read_csv(ms_csvfile)\n",
        "print(msdf.shape)\n",
        "msdf"
      ],
      "metadata": {
        "id": "O4E74-1n48zu"
      },
      "id": "O4E74-1n48zu",
      "execution_count": null,
      "outputs": []
    },
    {
      "cell_type": "code",
      "source": [
        "ms_csvfile = bighicat / 'nhi_lb_79src_HT03.txt'\n",
        "msdf = pd.read_csv(ms_csvfile)\n",
        "print('nrows, ncols:', msdf.shape)\n",
        "msdf"
      ],
      "metadata": {
        "id": "DOfojYzBVoBR"
      },
      "id": "DOfojYzBVoBR",
      "execution_count": null,
      "outputs": []
    },
    {
      "cell_type": "code",
      "source": [
        "ms_fcnm    = msdf['fcnm'].values\n",
        "ms_sigfcnm = msdf['sigfcnm'].values\n",
        "\n",
        "ms_rhi    = msdf['rhi'].values\n",
        "ms_sigrhi = msdf['sigrhi'].values\n",
        "\n",
        "ms_lat = np.abs(msdf.gb.values)\n",
        "\n",
        "ms_fcnm.shape"
      ],
      "metadata": {
        "colab": {
          "base_uri": "https://localhost:8080/"
        },
        "id": "QI7qZ30I8x--",
        "outputId": "cdf408ad-e812-457d-8cdc-92873e604537"
      },
      "id": "QI7qZ30I8x--",
      "execution_count": null,
      "outputs": [
        {
          "output_type": "execute_result",
          "data": {
            "text/plain": [
              "(79,)"
            ]
          },
          "metadata": {},
          "execution_count": 22
        }
      ]
    },
    {
      "cell_type": "markdown",
      "source": [
        "# GNOMES"
      ],
      "metadata": {
        "id": "BL2Jh2aSXpeR"
      },
      "id": "BL2Jh2aSXpeR"
    },
    {
      "cell_type": "code",
      "source": [
        "gn_csvfile = bighicat / 'GNOMES.csv'\n",
        "gndf = pd.read_csv(gn_csvfile)\n",
        "print('nrows, ncols: ', gndf.shape)\n",
        "gndf"
      ],
      "metadata": {
        "id": "Q-hDhLk6XrlT"
      },
      "id": "Q-hDhLk6XrlT",
      "execution_count": null,
      "outputs": []
    },
    {
      "cell_type": "code",
      "source": [
        "gn_fcnm    = gndf['fcnm'].values\n",
        "gn_sigfcnm = gndf['sigfcnm'].values\n",
        "\n",
        "gn_rhi    = gndf['rhi'].values\n",
        "gn_sigrhi = gndf['sigrhi'].values\n",
        "\n",
        "gn_fcnm.shape"
      ],
      "metadata": {
        "colab": {
          "base_uri": "https://localhost:8080/"
        },
        "id": "Hp8NFwUOY5_R",
        "outputId": "e4a889b0-b603-41b4-8dee-b552c1fcf4f0"
      },
      "id": "Hp8NFwUOY5_R",
      "execution_count": null,
      "outputs": [
        {
          "output_type": "execute_result",
          "data": {
            "text/plain": [
              "(77,)"
            ]
          },
          "metadata": {},
          "execution_count": 24
        }
      ]
    },
    {
      "cell_type": "markdown",
      "source": [
        "# Perseus"
      ],
      "metadata": {
        "id": "Z5l6TSRLZMCh"
      },
      "id": "Z5l6TSRLZMCh"
    },
    {
      "cell_type": "code",
      "source": [
        "ps_csvfile = bighicat / 'mach_los.csv'\n",
        "psdf = pd.read_csv(ps_csvfile)\n",
        "psdf = psdf[psdf['survey'] == 'Perseus']\n",
        "print('nrows, ncols: ', psdf.shape)\n",
        "psdf"
      ],
      "metadata": {
        "id": "ajxA5RanZO_0"
      },
      "id": "ajxA5RanZO_0",
      "execution_count": null,
      "outputs": []
    },
    {
      "cell_type": "code",
      "source": [
        "ps_fcnm    = psdf['fcnm'].values\n",
        "ps_sigfcnm = psdf['sigfcnm'].values\n",
        "\n",
        "ps_rhi    = psdf['rhi'].values\n",
        "ps_sigrhi = psdf['sigrhi'].values\n",
        "\n",
        "ps_fcnm.shape"
      ],
      "metadata": {
        "colab": {
          "base_uri": "https://localhost:8080/"
        },
        "id": "iXYtLfRZZmE-",
        "outputId": "7aef09ca-63b9-4b63-9bdd-e64e4bd4fa0e"
      },
      "id": "iXYtLfRZZmE-",
      "execution_count": null,
      "outputs": [
        {
          "output_type": "execute_result",
          "data": {
            "text/plain": [
              "(22,)"
            ]
          },
          "metadata": {},
          "execution_count": 26
        }
      ]
    },
    {
      "cell_type": "markdown",
      "source": [
        "# BIGHICAT - combining"
      ],
      "metadata": {
        "id": "iutN46BSX1MM"
      },
      "id": "iutN46BSX1MM"
    },
    {
      "cell_type": "code",
      "source": [
        "bighicat_fcnm.shape"
      ],
      "metadata": {
        "colab": {
          "base_uri": "https://localhost:8080/"
        },
        "id": "fkzFGlzw9XB_",
        "outputId": "357bbefd-67d9-42e0-d9d3-568182d7e7c5"
      },
      "id": "fkzFGlzw9XB_",
      "execution_count": null,
      "outputs": [
        {
          "output_type": "execute_result",
          "data": {
            "text/plain": [
              "(222,)"
            ]
          },
          "metadata": {},
          "execution_count": 27
        }
      ]
    },
    {
      "cell_type": "code",
      "source": [
        "bighicat_fcnm = np.concatenate((bighicat_fcnm, sp21_fcnm, m_fcnm, ms_fcnm), axis=None)\n",
        "bighicat_fcnm.shape"
      ],
      "metadata": {
        "colab": {
          "base_uri": "https://localhost:8080/"
        },
        "id": "btxpgXlL9Z_O",
        "outputId": "ae5b178f-e982-45a9-dd0e-b6f03d55b2f5"
      },
      "id": "btxpgXlL9Z_O",
      "execution_count": null,
      "outputs": [
        {
          "output_type": "execute_result",
          "data": {
            "text/plain": [
              "(399,)"
            ]
          },
          "metadata": {},
          "execution_count": 28
        }
      ]
    },
    {
      "cell_type": "code",
      "source": [
        "bighicat_rhi = np.concatenate((sp21_rhi, m_rhi, ms_rhi, gn_rhi, ps_rhi), axis=None)\n",
        "bighicat_rhi.shape"
      ],
      "metadata": {
        "colab": {
          "base_uri": "https://localhost:8080/"
        },
        "id": "RD1lX3IqaKK4",
        "outputId": "1fc5be6c-528d-47e1-a1a5-5682cdb2af23"
      },
      "id": "RD1lX3IqaKK4",
      "execution_count": null,
      "outputs": [
        {
          "output_type": "execute_result",
          "data": {
            "text/plain": [
              "(276,)"
            ]
          },
          "metadata": {},
          "execution_count": 29
        }
      ]
    },
    {
      "cell_type": "markdown",
      "source": [
        "## Data cube"
      ],
      "metadata": {
        "id": "hUWStaKYYZnV"
      },
      "id": "hUWStaKYYZnV"
    },
    {
      "cell_type": "code",
      "source": [
        "# Training and test datasets\n",
        "# 1. Datacubes: 04 datacubes with size of (512 x 512 x n)\n",
        "training_data_file_q0 = 'Tb_n01_pw02_vs12_512_thick_quarter_0_noise_1.0_K_beam_1.45_pix_.fits'\n",
        "training_data_file_q1 = 'Tb_n01_pw02_vs12_512_thick_quarter_1_noise_1.0_K_beam_1.45_pix_.fits'\n",
        "training_data_file_q2 = 'Tb_n01_pw02_vs12_512_thick_quarter_2_noise_1.0_K_beam_1.45_pix_.fits'\n",
        "training_data_file_q3 = 'Tb_n01_pw02_vs12_512_thick_quarter_3_noise_1.0_K_beam_1.45_pix_.fits'\n",
        "\n",
        "training_data_file_q0 = 'Tb_n01_pw02_vs12_512_thick_256chan_quarter_0_noise_1.0_K_beam_1.45_pix.fits'\n",
        "training_data_file_q1 = 'Tb_n01_pw02_vs12_512_thick_256chan_quarter_1_noise_1.0_K_beam_1.45_pix.fits'\n",
        "training_data_file_q2 = 'Tb_n01_pw02_vs12_512_thick_256chan_quarter_2_noise_1.0_K_beam_1.45_pix.fits'\n",
        "training_data_file_q3 = 'Tb_n01_pw02_vs12_512_thick_256chan_quarter_3_noise_1.0_K_beam_1.45_pix.fits'\n",
        "\n",
        "training_data_file_q0 = saury2014_data_path / training_data_file_q0\n",
        "training_data_file_q1 = saury2014_data_path / training_data_file_q1\n",
        "training_data_file_q2 = saury2014_data_path / training_data_file_q2\n",
        "training_data_file_q3 = saury2014_data_path / training_data_file_q3\n",
        "\n",
        "# 2a. R_HI maps\n",
        "rhi_file_q0 = 'R_map_n01_pw02_vs12_512px_quarter_0_noise.fits'\n",
        "rhi_file_q1 = 'R_map_n01_pw02_vs12_512px_quarter_1_noise.fits'\n",
        "rhi_file_q2 = 'R_map_n01_pw02_vs12_512px_quarter_2_noise.fits'\n",
        "rhi_file_q3 = 'R_map_n01_pw02_vs12_512px_quarter_3_noise.fits'\n",
        "\n",
        "rhi_file_q0 = saury2014_data_path / rhi_file_q0\n",
        "rhi_file_q1 = saury2014_data_path / rhi_file_q1\n",
        "rhi_file_q2 = saury2014_data_path / rhi_file_q2\n",
        "rhi_file_q3 = saury2014_data_path / rhi_file_q3\n",
        "\n",
        "# 3a. FCNM maps\n",
        "fcnm_file_q0 = 'fcnm_map_n01_pw02_vs12_Tcut_500K_512px_quarter_0_noise.fits'\n",
        "fcnm_file_q1 = 'fcnm_map_n01_pw02_vs12_Tcut_500K_512px_quarter_1_noise.fits'\n",
        "fcnm_file_q2 = 'fcnm_map_n01_pw02_vs12_Tcut_500K_512px_quarter_2_noise.fits'\n",
        "fcnm_file_q3 = 'fcnm_map_n01_pw02_vs12_Tcut_500K_512px_quarter_3_noise.fits'\n",
        "\n",
        "\n",
        "fcnm_file_q0 = saury2014_data_path / fcnm_file_q0\n",
        "fcnm_file_q1 = saury2014_data_path / fcnm_file_q1\n",
        "fcnm_file_q2 = saury2014_data_path / fcnm_file_q2\n",
        "fcnm_file_q3 = saury2014_data_path / fcnm_file_q3\n",
        "\n",
        "print(training_data_file_q0)\n",
        "print(fcnm_file_q0)\n",
        "print(rhi_file_q0)\n",
        "\n",
        "\n",
        "seta22_training_data_file = 'Tb_mpism_sol_800_thick_256chan_noise_1.0_K_beam_1.45_pix.fits'\n",
        "tau_data_file_q4          = 'tau_mpism_sol_800_turb_thick_256chan_noise.fits'\n",
        "seta22_rhi_file           = 'rhi_map_mpism_sol_800_Tcut_500K_thick_101chan.fits'\n",
        "seta22_fcnm_file          = 'fcnm_map_mpism_sol_800_Tcut_500K.fits'\n",
        "\n",
        "seta22_training_data_file = seta_data_path / seta22_training_data_file\n",
        "seta22_rhi_file           = seta_data_path / seta22_rhi_file\n",
        "seta22_fcnm_file          = seta_data_path / seta22_fcnm_file"
      ],
      "metadata": {
        "id": "Y9w1liqBTiwz"
      },
      "id": "Y9w1liqBTiwz",
      "execution_count": null,
      "outputs": []
    },
    {
      "cell_type": "code",
      "source": [
        "\"\"\"# Data\"\"\"\n",
        "\n",
        "print('Saury+ 2014')\n",
        "cube1, header1 = fits.getdata(training_data_file_q0, header=True)\n",
        "cube2, header2 = fits.getdata(training_data_file_q1, header=True)\n",
        "cube3, header3 = fits.getdata(training_data_file_q2, header=True)\n",
        "cube4, header4 = fits.getdata(training_data_file_q3, header=True)\n",
        "#\n",
        "fcnm_data1, header1 = fits.getdata(fcnm_file_q0, header=True)\n",
        "fcnm_data2, header2 = fits.getdata(fcnm_file_q1, header=True)\n",
        "fcnm_data3, header3 = fits.getdata(fcnm_file_q2, header=True)\n",
        "fcnm_data4, header4 = fits.getdata(fcnm_file_q3, header=True)\n",
        "#\n",
        "rhi_data1, header1 = fits.getdata(rhi_file_q0, header=True)\n",
        "rhi_data2, header2 = fits.getdata(rhi_file_q1, header=True)\n",
        "rhi_data3, header3 = fits.getdata(rhi_file_q2, header=True)\n",
        "rhi_data4, header4 = fits.getdata(rhi_file_q3, header=True)\n",
        "\n",
        "nchan, ny, nx = cube1.shape\n",
        "print('nchan, ny, nx:', nchan, ny, nx)\n",
        "print('2D map shape:', fcnm_data1.shape)\n",
        "print('2D map shape:', rhi_data1.shape)\n",
        "\n",
        "\n",
        "# Seta22\n",
        "print()\n",
        "print('Seta & Federath 2022')\n",
        "cube5, header5      = fits.getdata(seta22_training_data_file, header=True)\n",
        "fcnm_data5, header5 = fits.getdata(seta22_fcnm_file, header=True)\n",
        "rhi_data5, header5  = fits.getdata(seta22_rhi_file, header=True)\n",
        "\n",
        "nchan, ny, nx = cube5.shape\n",
        "print('nchan, ny, nx:',nchan, ny, nx)\n",
        "print('2D map shape:', fcnm_data5.shape)\n",
        "print('2D map shape:', rhi_data5.shape)"
      ],
      "metadata": {
        "id": "VPcghobyF2SN",
        "colab": {
          "base_uri": "https://localhost:8080/"
        },
        "outputId": "20e15085-841d-4777-820c-cd684521c069"
      },
      "id": "VPcghobyF2SN",
      "execution_count": null,
      "outputs": [
        {
          "output_type": "stream",
          "name": "stdout",
          "text": [
            "Saury+ 2014\n",
            "nchan, ny, nx: 256 512 512\n",
            "2D map shape: (512, 512)\n",
            "2D map shape: (512, 512)\n",
            "\n",
            "Seta & Federath 2022\n",
            "nchan, ny, nx: 256 512 512\n",
            "2D map shape: (512, 512)\n",
            "2D map shape: (512, 512)\n"
          ]
        }
      ]
    },
    {
      "cell_type": "code",
      "source": [
        "# Velocity range and channel spacing\n",
        "vmin = -40  # km.s-1\n",
        "vmax = 40   # km.s-1\n",
        "dv = 0.3125 # 0.15625 # 0.8 #km.s-1\n",
        "v = np.arange(vmin, vmax, dv) # vmin,vmax -> 512 channels , vmax+dv -> 513 channels\n",
        "v.shape"
      ],
      "metadata": {
        "colab": {
          "base_uri": "https://localhost:8080/"
        },
        "id": "52ZYM7WQ-MNW",
        "outputId": "00c41b6f-a7be-4d41-a306-b713122311ab"
      },
      "id": "52ZYM7WQ-MNW",
      "execution_count": null,
      "outputs": [
        {
          "output_type": "execute_result",
          "data": {
            "text/plain": [
              "(256,)"
            ]
          },
          "metadata": {},
          "execution_count": 41
        }
      ]
    },
    {
      "cell_type": "markdown",
      "source": [
        "# Histograms of $f_\\text{CNM}$ and $R_\\text{HI}$"
      ],
      "metadata": {
        "id": "5CNEpO7jovRo"
      },
      "id": "5CNEpO7jovRo"
    },
    {
      "cell_type": "code",
      "source": [
        "fcnm_flat_data1 = fcnm_data1.flatten()\n",
        "fcnm_flat_data2 = fcnm_data2.flatten()\n",
        "fcnm_flat_data3 = fcnm_data3.flatten()\n",
        "fcnm_flat_data4 = fcnm_data4.flatten()\n",
        "fcnm_flat_data5 = fcnm_data5.flatten()\n",
        "\n",
        "rhi_flat_data1 = rhi_data1.flatten()\n",
        "rhi_flat_data2 = rhi_data2.flatten()\n",
        "rhi_flat_data3 = rhi_data3.flatten()\n",
        "rhi_flat_data4 = rhi_data4.flatten()\n",
        "rhi_flat_data5 = rhi_data5.flatten()"
      ],
      "metadata": {
        "id": "m3ZYv8WzpMVC"
      },
      "id": "m3ZYv8WzpMVC",
      "execution_count": null,
      "outputs": []
    },
    {
      "cell_type": "code",
      "source": [
        "bighicat_fcnm = bighicat_fcnm[~np.isnan(bighicat_fcnm)]\n",
        "bighicat_fcnm.shape"
      ],
      "metadata": {
        "colab": {
          "base_uri": "https://localhost:8080/"
        },
        "id": "JF-XsQOa-jv5",
        "outputId": "79eddecd-d517-48cb-9f78-bb40fa993462"
      },
      "id": "JF-XsQOa-jv5",
      "execution_count": null,
      "outputs": [
        {
          "output_type": "execute_result",
          "data": {
            "text/plain": [
              "(269,)"
            ]
          },
          "metadata": {},
          "execution_count": 53
        }
      ]
    },
    {
      "cell_type": "code",
      "source": [
        "fig = plt.figure(figsize=(9,12))\n",
        "\n",
        "\n",
        "# Plot:\n",
        "ax = fig.add_subplot(211)\n",
        "\n",
        "lw = 1.7\n",
        "ls = '-'\n",
        "\n",
        "nbins = 25\n",
        "ax.hist(fcnm_flat_data1, bins=np.linspace(0., 1., nbins),\n",
        "         density=True, color='k', histtype='step',\n",
        "         alpha=1., ls=ls, lw=lw,\n",
        "         label='')\n",
        "\n",
        "ax.hist(fcnm_flat_data2, bins=np.linspace(0., 1., nbins),\n",
        "         density=True, color='k', histtype='step',\n",
        "         alpha=1., ls=ls, lw=lw,\n",
        "         label='')\n",
        "\n",
        "ax.hist(fcnm_flat_data4, bins=np.linspace(0., 1., nbins),\n",
        "         density=True, color='k', histtype='step',\n",
        "         alpha=1., ls='--', lw=lw,\n",
        "         label='')\n",
        "\n",
        "ax.hist(fcnm_flat_data3, bins=np.linspace(0., 1., nbins),\n",
        "         density=True, color='k', histtype='step',\n",
        "         alpha=1., ls=ls, lw=lw,\n",
        "         label='')\n",
        "\n",
        "ax.hist(fcnm_flat_data5, bins=np.linspace(0., 1., nbins),\n",
        "         density=True, color='k', histtype='step',\n",
        "         alpha=1., ls=ls, lw=lw,\n",
        "         label='')\n",
        "\n",
        "plt.hist(bighicat_fcnm, bins=np.linspace(0., 1., nbins),\n",
        "         density=True, color='m', histtype='step', alpha=1.,\n",
        "         ls='-', lw=lw, label='')\n",
        "\n",
        "plt.yscale('log')\n",
        "\n",
        "\n",
        "# Add axes labels\n",
        "ax.set_xlabel(r'$f_\\mathrm{CNM}$', fontsize=24)\n",
        "ax.set_ylabel(r'Normalized counts', fontsize=22)\n",
        "\n",
        "\n",
        "\n",
        "ax.tick_params(axis='x', labelsize=20, pad=4)\n",
        "ax.tick_params(axis='y', labelsize=20)\n",
        "ax.tick_params(which='both', width=2)\n",
        "ax.tick_params(which='major', length=4)\n",
        "ax.tick_params(which='minor', length=2)\n",
        "\n",
        "ax.grid(True, linestyle='--', linewidth=0.5, color='lightgray', zorder=-10)\n",
        "\n",
        "\n",
        "\n",
        "\n",
        "# Plot:\n",
        "ax = fig.add_subplot(212)\n",
        "\n",
        "ls = '-'\n",
        "nbins = 20\n",
        "\n",
        "ax.hist(rhi_flat_data1, bins=np.linspace(1., 8., nbins),\n",
        "         density=True, color='k', histtype='step',\n",
        "         alpha=1., ls=ls, lw=lw,\n",
        "         label='')\n",
        "\n",
        "ax.hist(rhi_flat_data2, bins=np.linspace(1., 8., nbins),\n",
        "         density=True, color='k', histtype='step',\n",
        "         alpha=1., ls=ls, lw=lw,\n",
        "         label='')\n",
        "\n",
        "ax.hist(rhi_flat_data4, bins=np.linspace(1., 8., nbins),\n",
        "         density=True, color='k', histtype='step',\n",
        "         alpha=1., ls='--', lw=lw,\n",
        "         label='')\n",
        "\n",
        "ax.hist(rhi_flat_data3, bins=np.linspace(1., 8., nbins),\n",
        "         density=True, color='k', histtype='step',\n",
        "         alpha=1., ls=ls, lw=lw,\n",
        "         label='')\n",
        "\n",
        "ax.hist(rhi_flat_data5, bins=np.linspace(1., 8., nbins),\n",
        "         density=True, color='k', histtype='step',\n",
        "         alpha=1., ls=ls, lw=lw,\n",
        "         label='')\n",
        "\n",
        "\n",
        "ax.hist(bighicat_rhi, bins=np.linspace(1., 8., nbins),\n",
        "         density=True, color='m', histtype='step',\n",
        "         alpha=1., ls='-', lw=lw,\n",
        "         label='')\n",
        "\n",
        "\n",
        "ploti, = ax.plot([], [], 'k-', label='Training spectral cubes')\n",
        "ploti.set_visible(True)\n",
        "\n",
        "ploti, = ax.plot([], [], 'k--', label='Evaluation spectral cube')\n",
        "ploti.set_visible(True)\n",
        "\n",
        "ploti, = ax.plot([], [], 'm-', label='Absorption surveys (BIGHICAT)')\n",
        "ploti.set_visible(True)\n",
        "\n",
        "\n",
        "plt.yscale('log')\n",
        "\n",
        "\n",
        "\n",
        "# Add axes labels\n",
        "ax.set_xlabel(r'$\\mathcal{R}_\\mathrm{HI}$', fontsize=24)\n",
        "ax.set_ylabel(r'Normalized counts', fontsize=22)\n",
        "\n",
        "\n",
        "ax.tick_params(axis='x', labelsize=20, pad=4)\n",
        "ax.tick_params(axis='y', labelsize=20)\n",
        "ax.tick_params(which='both', width=2)\n",
        "ax.tick_params(which='major', length=4)\n",
        "ax.tick_params(which='minor', length=2)\n",
        "\n",
        "ax.set_xlim(0.8, 8.25)\n",
        "\n",
        "ax.grid(True, linestyle='--', linewidth=0.5, color='lightgray', zorder=-10)\n",
        "ax.legend(loc='upper right', fancybox=False, framealpha=0.0, labelcolor='k', fontsize=20)\n",
        "\n",
        "\n",
        "# set the spacing between subplots\n",
        "plt.subplots_adjust(left=None,\n",
        "                    bottom=None,\n",
        "                    right=None,\n",
        "                    top=None,\n",
        "                    wspace=0.2,\n",
        "                    hspace=0.25\n",
        "                    )\n",
        "\n",
        "\n",
        "\n",
        "plt.show()"
      ],
      "metadata": {
        "colab": {
          "base_uri": "https://localhost:8080/",
          "height": 1000
        },
        "id": "KLc-GlwiozNW",
        "outputId": "95991c05-5ba2-40cf-8862-0fd355a9d481"
      },
      "id": "KLc-GlwiozNW",
      "execution_count": null,
      "outputs": [
        {
          "output_type": "display_data",
          "data": {
            "text/plain": [
              "<Figure size 900x1200 with 2 Axes>"
            ],
            "image/png": "[encoded data removed]"
          },
          "metadata": {}
        }
      ]
    },
    {
      "cell_type": "code",
      "source": [
        "print('BIGHICAT fCNM min, max:', bighicat_fcnm.min(), bighicat_fcnm.max())"
      ],
      "metadata": {
        "colab": {
          "base_uri": "https://localhost:8080/"
        },
        "id": "sjSFC-A6yiX-",
        "outputId": "65734091-35c0-4b25-8ccc-83aa8b97ee8e"
      },
      "id": "sjSFC-A6yiX-",
      "execution_count": null,
      "outputs": [
        {
          "output_type": "stream",
          "name": "stdout",
          "text": [
            "BIGHICAT fCNM min, max: 0.0 0.8747913188647747\n"
          ]
        }
      ]
    },
    {
      "cell_type": "code",
      "source": [
        "print('BIGHICAT RHI min, max:', bighicat_rhi.min(), bighicat_rhi.max())"
      ],
      "metadata": {
        "colab": {
          "base_uri": "https://localhost:8080/"
        },
        "id": "KxFcgWzXzdUR",
        "outputId": "39fffd92-29f6-483e-e9b0-3163b0438ed1"
      },
      "id": "KxFcgWzXzdUR",
      "execution_count": null,
      "outputs": [
        {
          "output_type": "stream",
          "name": "stdout",
          "text": [
            "BIGHICAT RHI min, max: 1.0 3.118108208174369\n"
          ]
        }
      ]
    }
  ],
  "metadata": {
    "colab": {
      "provenance": [],
      "toc_visible": true
    },
    "kernelspec": {
      "display_name": "Python 3",
      "name": "python3"
    },
    "language_info": {
      "codemirror_mode": {
        "name": "ipython",
        "version": 3
      },
      "file_extension": ".py",
      "mimetype": "text/x-python",
      "name": "python",
      "nbconvert_exporter": "python",
      "pygments_lexer": "ipython3",
      "version": "3.10.4"
    }
  },
  "nbformat": 4,
  "nbformat_minor": 5
}